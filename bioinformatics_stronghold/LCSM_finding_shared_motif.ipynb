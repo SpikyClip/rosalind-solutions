{
 "metadata": {
  "language_info": {
   "codemirror_mode": {
    "name": "ipython",
    "version": 3
   },
   "file_extension": ".py",
   "mimetype": "text/x-python",
   "name": "python",
   "nbconvert_exporter": "python",
   "pygments_lexer": "ipython3",
   "version": "3.9.0-final"
  },
  "orig_nbformat": 2,
  "kernelspec": {
   "name": "python3",
   "display_name": "Python 3.9.0 64-bit",
   "metadata": {
    "interpreter": {
     "hash": "f6ee89c0460d81ba895d2da86826be89cfa887b00added1720b2baf7b2681e4d"
    }
   }
  }
 },
 "nbformat": 4,
 "nbformat_minor": 2,
 "cells": [
  {
   "cell_type": "code",
   "execution_count": 5,
   "metadata": {
    "tags": []
   },
   "outputs": [],
   "source": [
    "from itertools import combinations\n",
    "\n",
    "seq_dict = dict()\n",
    "filename = 'LCSM_finding_shared_motif.txt'\n",
    "with open(filename) as f:\n",
    "    for line in f:\n",
    "        if line.startswith('>'):\n",
    "            seq_name = line.strip('>\\n')\n",
    "            seq_dict[seq_name] = ''\n",
    "        else:\n",
    "            seq_dict[seq_name] += line.strip()\n",
    "seq_list = list(seq_dict.values())"
   ]
  },
  {
   "cell_type": "code",
   "execution_count": 6,
   "metadata": {
    "tags": []
   },
   "outputs": [],
   "source": [
    "# %%timeit\n",
    "\n",
    "def shared_motif(seq_list):\n",
    "    sorted_seqs = sorted(seq_list, key=len)\n",
    "    shortest_seq, *remaining_seqs = sorted_seqs\n",
    "    longest_common_motif = ['']\n",
    "    n = len(shortest_seq)\n",
    "    for start_pos in range(n):\n",
    "        # end_pos = start_pos + 1 to prevent [x:x] slicing, \n",
    "        # ends at n+1 to allow [n:n+1 slice]\n",
    "        for end_pos in range(start_pos+1, n+1):\n",
    "            test_motif = shortest_seq[start_pos:end_pos]\n",
    "            in_all = all(test_motif in seq for seq in remaining_seqs)\n",
    "            if in_all:\n",
    "                if len(test_motif) > len(longest_common_motif[0]):\n",
    "                    longest_common_motif = [test_motif]\n",
    "                elif len(test_motif) == len(longest_common_motif[0]):\n",
    "                    longest_common_motif.append(test_motif)\n",
    "    return longest_common_motif\n",
    "\n",
    "# shared_motif(seq_list)\n"
   ]
  },
  {
   "cell_type": "code",
   "execution_count": 7,
   "metadata": {
    "tags": []
   },
   "outputs": [],
   "source": [
    "# %%timeit\n",
    "\n",
    "def shared_motif2(seq_list):\n",
    "    sorted_seqs = sorted(seq_list, key=len)\n",
    "    shortest_seq, *remaining_seqs = sorted_seqs\n",
    "    longest_common_motif = ['']\n",
    "    n = len(shortest_seq)\n",
    "    substr_index = [(i, j) for i, j in combinations(range(n+1), 2)]\n",
    "    substr_index.sort(key=lambda tup: tup[1] - tup[0], reverse=True)\n",
    "\n",
    "    for start, stop in substr_index:\n",
    "        test_motif = shortest_seq[start:stop]\n",
    "        in_all = all(test_motif in seq for seq in remaining_seqs)\n",
    "        if in_all:\n",
    "            if len(test_motif) > len(longest_common_motif[0]):\n",
    "                longest_common_motif = [test_motif]\n",
    "            elif len(test_motif) == len(longest_common_motif[0]):\n",
    "                longest_common_motif.append(test_motif)\n",
    "\n",
    "    return longest_common_motif\n",
    "\n",
    "# shared_motif2(seq_list)"
   ]
  },
  {
   "cell_type": "code",
   "execution_count": 11,
   "metadata": {
    "tags": []
   },
   "outputs": [
    {
     "output_type": "execute_result",
     "data": {
      "text/plain": [
       "['GGGCCGCCCCGGCACGGCGGAACGAGGCCTCTCTTACAGTCCCTTTCTTTTCCCCGCTTGGGTGTGAAGAAACCGCGGCCTCTCATCTAATCGATGCATTCAGAGTCAGA']"
      ]
     },
     "metadata": {},
     "execution_count": 11
    }
   ],
   "source": [
    "# %%timeit\n",
    "def shared_motif3(seq_list):\n",
    "    sorted_seqs = sorted(seq_list, key=len)\n",
    "    shortest_seq, *remaining_seqs = sorted_seqs\n",
    "    found = False\n",
    "    longest_common_motif = []\n",
    "    n = len(shortest_seq)\n",
    "    substr_index = [(i, j) for i, j in combinations(range(n+1), 2)]\n",
    "    substr_index.sort(key=lambda tup: tup[1] - tup[0], reverse=True)\n",
    "\n",
    "    for start, stop in substr_index:\n",
    "        test_motif = shortest_seq[start:stop]\n",
    "        in_all = all(test_motif in seq for seq in remaining_seqs)\n",
    "        if in_all:\n",
    "            found = True\n",
    "            longest_common_motif.append(test_motif)\n",
    "        if found and (len(test_motif) < len(longest_common_motif[0])):\n",
    "            break\n",
    "\n",
    "    return longest_common_motif\n",
    "    \n",
    "shared_motif3(seq_list)"
   ]
  },
  {
   "source": [
    "Final implementation I came up with below:"
   ],
   "cell_type": "markdown",
   "metadata": {}
  },
  {
   "cell_type": "code",
   "execution_count": 10,
   "metadata": {},
   "outputs": [
    {
     "output_type": "stream",
     "name": "stdout",
     "text": [
      "GGGCCGCCCCGGCACGGCGGAACGAGGCCTCTCTTACAGTCCCTTTCTTTTCCCCGCTTGGGTGTGAAGAAACCGCGGCCTCTCATCTAATCGATGCATTCAGAGTCAGA\n",
      "GGGCCGCCCCGGCACGGCGGAACGAGGCCTCTCTTACAGTCCCTTTCTTTTCCCCGCTTGGGTGTGAAGAAACCGCGGCCTCTCATCTAATCGATGCATTCAGAGTCAGA\n",
      "GGGCCGCCCCGGCACGGCGGAACGAGGCCTCTCTTACAGTCCCTTTCTTTTCCCCGCTTGGGTGTGAAGAAACCGCGGCCTCTCATCTAATCGATGCATTCAGAGTCAGA\n",
      "GGGCCGCCCCGGCACGGCGGAACGAGGCCTCTCTTACAGTCCCTTTCTTTTCCCCGCTTGGGTGTGAAGAAACCGCGGCCTCTCATCTAATCGATGCATTCAGAGTCAGA\n",
      "GGGCCGCCCCGGCACGGCGGAACGAGGCCTCTCTTACAGTCCCTTTCTTTTCCCCGCTTGGGTGTGAAGAAACCGCGGCCTCTCATCTAATCGATGCATTCAGAGTCAGA\n",
      "GGGCCGCCCCGGCACGGCGGAACGAGGCCTCTCTTACAGTCCCTTTCTTTTCCCCGCTTGGGTGTGAAGAAACCGCGGCCTCTCATCTAATCGATGCATTCAGAGTCAGA\n",
      "GGGCCGCCCCGGCACGGCGGAACGAGGCCTCTCTTACAGTCCCTTTCTTTTCCCCGCTTGGGTGTGAAGAAACCGCGGCCTCTCATCTAATCGATGCATTCAGAGTCAGA\n",
      "GGGCCGCCCCGGCACGGCGGAACGAGGCCTCTCTTACAGTCCCTTTCTTTTCCCCGCTTGGGTGTGAAGAAACCGCGGCCTCTCATCTAATCGATGCATTCAGAGTCAGA\n",
      "996 ms ± 7.56 ms per loop (mean ± std. dev. of 7 runs, 1 loop each)\n"
     ]
    }
   ],
   "source": [
    "%%timeit\n",
    "from itertools import combinations\n",
    "\n",
    "\n",
    "def fasta_to_dict(filename):\n",
    "    \"\"\"Converts fasta format from txt to dictionary\"\"\"\n",
    "    seq_dict = dict()\n",
    "    with open(filename) as f:\n",
    "        # iterates by line in file for efficiency\n",
    "        for line in f:\n",
    "            # identifies fasta titles by '>' char, stripping '>' and\n",
    "            # storing as seq_name to allow later reference to dict when\n",
    "            # concatenating sequence.\n",
    "            # seq_name also stored as key in dictionary with empty string\n",
    "            # to allow for concatenation later\n",
    "            if line.startswith(\">\"):\n",
    "                seq_name = line.strip(\">\\n\")\n",
    "                seq_dict[seq_name] = \"\"\n",
    "            # concatenates seq to current seq_name value in dict\n",
    "            else:\n",
    "                seq_dict[seq_name] += line.strip()\n",
    "\n",
    "    return seq_dict\n",
    "\n",
    "\n",
    "def longest_common_motif(seq_list):\n",
    "    \"\"\"Returns a list of the longest substrings found in all strings in seq_list\"\"\"\n",
    "    # sorts seq_list to find shortest string, as the longest possible\n",
    "    # substring cannot exceed length of shortest string\n",
    "    sorted_seqs = sorted(seq_list, key=len)\n",
    "    shortest_seq, *remaining_seqs = sorted_seqs\n",
    "    n = len(shortest_seq)\n",
    "    longest_common_motif = []\n",
    "    found = False\n",
    "    # generates all possible substring slice indices as a list of tuples\n",
    "    substr_indices = [(i, j) for i, j in combinations(range(n + 1), 2)]\n",
    "    # sorts substr_indices by slice length in descending order. This is\n",
    "    # done so that iterating over substr_indices will evaluate\n",
    "    # progressively shorter substrings, allowing us to end our search\n",
    "    # as soon as a longest common motif is found and all further\n",
    "    # substrings are shorter or equal in length to the longest common\n",
    "    # motif found\n",
    "    substr_indices.sort(key=lambda tup: tup[1] - tup[0], reverse=True)\n",
    "\n",
    "    # loops through substr_indices and generates a test_motif as a slice\n",
    "    # of the shortest_seq. More efficient than generating all possible\n",
    "    # slices, as we can stop as soon as the longest common motif is found\n",
    "    for start, stop in substr_indices:\n",
    "        test_motif = shortest_seq[start:stop]\n",
    "        # if longest common motif was found in a previous iteration, the\n",
    "        # only reason to continue testing is if there are remaining\n",
    "        # substrings of equal length. If test_motif is shorter, break\n",
    "        # the loop.\n",
    "        if found and (len(test_motif) < len(longest_common_motif[0])):\n",
    "            break\n",
    "        # uses a generator comprehension, checking if test_motif is in\n",
    "        # remaining_seqs. all() ends the generator immediately if False\n",
    "        # is returned, avoiding the need to check all sequences unless\n",
    "        # test_motif is in all sequences\n",
    "        in_all = all(test_motif in seq for seq in remaining_seqs)\n",
    "        # found flag set to True to account for first discovery of\n",
    "        # longest common motif. test_motif is appended to consider\n",
    "        # possibility of multiple longest common motifs with equal length\n",
    "        if in_all:\n",
    "            found = True\n",
    "            longest_common_motif.append(test_motif)\n",
    "\n",
    "    return longest_common_motif\n",
    "\n",
    "\n",
    "def main(filename):\n",
    "    seq_list = list(fasta_to_dict(filename).values())\n",
    "    motif_list = longest_common_motif(seq_list)\n",
    "    for motif in motif_list:\n",
    "        print(motif)\n",
    "\n",
    "\n",
    "if __name__ == \"__main__\":\n",
    "    main(\"LCSM_finding_shared_motif.txt\")\n"
   ]
  },
  {
   "cell_type": "code",
   "execution_count": null,
   "metadata": {},
   "outputs": [],
   "source": []
  }
 ]
}