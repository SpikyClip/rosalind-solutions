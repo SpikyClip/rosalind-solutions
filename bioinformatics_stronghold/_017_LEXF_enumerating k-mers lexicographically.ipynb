{
 "metadata": {
  "language_info": {
   "codemirror_mode": {
    "name": "ipython",
    "version": 3
   },
   "file_extension": ".py",
   "mimetype": "text/x-python",
   "name": "python",
   "nbconvert_exporter": "python",
   "pygments_lexer": "ipython3",
   "version": "3.9.0-final"
  },
  "orig_nbformat": 2,
  "kernelspec": {
   "name": "python3",
   "display_name": "Python 3.9.0 64-bit",
   "metadata": {
    "interpreter": {
     "hash": "f6ee89c0460d81ba895d2da86826be89cfa887b00added1720b2baf7b2681e4d"
    }
   }
  }
 },
 "nbformat": 4,
 "nbformat_minor": 2,
 "cells": [
  {
   "cell_type": "code",
   "execution_count": 6,
   "metadata": {},
   "outputs": [
    {
     "output_type": "stream",
     "name": "stdout",
     "text": [
      "AA\nAC\nAG\nAT\nCC\nCG\nCT\nGG\nGT\nTT\n"
     ]
    }
   ],
   "source": [
    "from itertools import combinations_with_replacement\n",
    "alphabet = 'A C G T'\n",
    "alphabet_joined = alphabet.replace(' ', '')\n",
    "length = 2\n",
    "\n",
    "for combo in combinations_with_replacement(alphabet_joined, length):\n",
    "    for char in combo:\n",
    "        print(char, end='')\n",
    "    print()"
   ]
  },
  {
   "cell_type": "code",
   "execution_count": null,
   "metadata": {},
   "outputs": [],
   "source": []
  }
 ]
}